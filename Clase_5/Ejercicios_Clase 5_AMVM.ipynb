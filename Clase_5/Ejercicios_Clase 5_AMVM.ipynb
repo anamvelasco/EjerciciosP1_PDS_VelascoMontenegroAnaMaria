{
 "cells": [
  {
   "cell_type": "markdown",
   "id": "3057bf5a",
   "metadata": {},
   "source": [
    "### Ejercicios Clase 5"
   ]
  },
  {
   "cell_type": "code",
   "execution_count": 1,
   "id": "8fb7b33a",
   "metadata": {},
   "outputs": [],
   "source": [
    "import numpy as np # libreria básica operadores matemáticos y de arreglos\n",
    "import matplotlib.pylab as plt # librería de graficación\n",
    "#%matplotlib inline # libreria de incrustación en el notebook\n",
    "import math # libreria de operadores matemáticos especiales"
   ]
  },
  {
   "cell_type": "markdown",
   "id": "8a19d383",
   "metadata": {},
   "source": [
    "#### 1. Realice la convolución entre h(n)= [4,8,-2,6] y x(n)=([-2, 4, 9, 8, 20])  "
   ]
  },
  {
   "cell_type": "code",
   "execution_count": 2,
   "id": "b9eb2922",
   "metadata": {},
   "outputs": [
    {
     "name": "stdout",
     "output_type": "stream",
     "text": [
      "[ -8   0  72  84 150 198   8 120]\n"
     ]
    }
   ],
   "source": [
    "n = np.arange(0,8)\n",
    "h = np.array([4,8,-2,6])  # h(n)\n",
    "x = np.array([-2, 4, 9, 8, 20])     # x(n)\n",
    "y = np.convolve(h, x)       # Convolución de las señales y(n)\n",
    "print(y)"
   ]
  },
  {
   "cell_type": "markdown",
   "id": "4b8e7c86",
   "metadata": {},
   "source": [
    "#### 2. Grafique la convolución"
   ]
  },
  {
   "cell_type": "code",
   "execution_count": 3,
   "id": "be1dc237",
   "metadata": {},
   "outputs": [
    {
     "data": {
      "image/png": "[encoded data removed]",
      "text/plain": [
       "<Figure size 640x480 with 1 Axes>"
      ]
     },
     "metadata": {},
     "output_type": "display_data"
    }
   ],
   "source": [
    "# Grafica de la convolución\n",
    "%matplotlib inline\n",
    "plt.figure()\n",
    "plt.stem(n, y)\n",
    "plt.xlabel('Numero de muestras')\n",
    "plt.ylabel('Amplitud')\n",
    "plt.grid()\n",
    "plt.show()"
   ]
  },
  {
   "cell_type": "markdown",
   "id": "b4e3911f",
   "metadata": {},
   "source": [
    "#### 3. Encuentre los límites de la convolución realizada previamente."
   ]
  },
  {
   "cell_type": "code",
   "execution_count": 4,
   "id": "d919642c",
   "metadata": {},
   "outputs": [
    {
     "name": "stdout",
     "output_type": "stream",
     "text": [
      "Límite inferior: 0\n",
      "Límite superior: 7\n"
     ]
    }
   ],
   "source": [
    "x = np.array([4,8,-2,6])\n",
    "h = np.array([-2, 4, 9, 8, 20])\n",
    "\n",
    "# Encontrar límites de convolución\n",
    "lx = len(x)\n",
    "lh = len(h)\n",
    "lim_inf = 0\n",
    "for i in range(lx):\n",
    "    if (i >= lh - 1) or (x[i] > 0 and h[0] > 0):\n",
    "        lim_inf = i\n",
    "        break\n",
    "\n",
    "lim_sup = lx + lh - 2\n",
    "for i in range(lx - 1, -1, -1):\n",
    "    if (i <= lim_sup - lh + 1) or (x[i] > 0 and h[-1] > 0):\n",
    "        lim_sup = i + lh - 1\n",
    "        break\n",
    "\n",
    "print(\"Límite inferior:\", lim_inf)\n",
    "print(\"Límite superior:\", lim_sup)"
   ]
  },
  {
   "cell_type": "markdown",
   "id": "6a90e8d1",
   "metadata": {},
   "source": [
    "#### 4. Realice la convolución entre h(n)= [2,5,6,8] y x(n)= ([7, 1, 3, 8, 30]). ¿Para qué se busca realizar la convolución de dos señales? "
   ]
  },
  {
   "cell_type": "code",
   "execution_count": 5,
   "id": "cfeb5339",
   "metadata": {},
   "outputs": [
    {
     "name": "stdout",
     "output_type": "stream",
     "text": [
      "[ 14  37  53  93 126 222 244 240]\n"
     ]
    }
   ],
   "source": [
    "n = np.arange(0,8)\n",
    "h1 = np.array([2,5,6,8])  # h(n)\n",
    "x1 = np.array([7, 1, 3, 8, 30])     # x(n)\n",
    "y1 = np.convolve(h1, x1)       # Convolución de las señales y(n)\n",
    "print(y1)"
   ]
  },
  {
   "cell_type": "code",
   "execution_count": null,
   "id": "c18da869",
   "metadata": {},
   "outputs": [],
   "source": []
  }
 ],
 "metadata": {
  "kernelspec": {
   "display_name": "Python 3 (ipykernel)",
   "language": "python",
   "name": "python3"
  },
  "language_info": {
   "codemirror_mode": {
    "name": "ipython",
    "version": 3
   },
   "file_extension": ".py",
   "mimetype": "text/x-python",
   "name": "python",
   "nbconvert_exporter": "python",
   "pygments_lexer": "ipython3",
   "version": "3.9.13"
  }
 },
 "nbformat": 4,
 "nbformat_minor": 5
}
