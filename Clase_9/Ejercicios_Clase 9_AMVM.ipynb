{
 "cells": [
  {
   "cell_type": "markdown",
   "id": "4b9fa77e",
   "metadata": {},
   "source": [
    "### Ejercicios Clase 9"
   ]
  },
  {
   "cell_type": "code",
   "execution_count": 1,
   "id": "40f8510a",
   "metadata": {},
   "outputs": [],
   "source": [
    "import numpy as np # libreria básica operadores matemáticos y de arreglos\n",
    "import matplotlib.pylab as plt # librería de graficación"
   ]
  },
  {
   "cell_type": "markdown",
   "id": "0fc23711",
   "metadata": {},
   "source": [
    "#### 1. Calcular la transformada inversa de una secuencia finita"
   ]
  },
  {
   "cell_type": "code",
   "execution_count": 2,
   "id": "79bd60f0",
   "metadata": {},
   "outputs": [],
   "source": [
    "def reverse_ztrans(Xz):\n",
    "    XZ=str(Xz)\n",
    "    XZarray=XZ.split('+')\n",
    "    zero=None\n",
    "    for i in range(len(XZarray)):\n",
    "        XZarray[i]=XZarray[i].replace('/Z','*Z')\n",
    "        delindex=XZarray[i].find('Z')\n",
    "        if (delindex==-1):\n",
    "            zero=i\n",
    "        else:\n",
    "            XZarray[i]=XZarray[i][:delindex]\n",
    "        if XZarray[i]=='':\n",
    "            XZarray[i]='1'\n",
    "        XZarray[i]=float(XZarray[i].replace('*',''))\n",
    "    #print(zero)\n",
    "        \n",
    "    return XZarray,zero"
   ]
  },
  {
   "cell_type": "code",
   "execution_count": 3,
   "id": "6fdb3ca3",
   "metadata": {},
   "outputs": [
    {
     "name": "stdout",
     "output_type": "stream",
     "text": [
      "[1.0, 3.0, 5.0, 9.0, 30.0, 35.0, 45.0, 50.0]\n",
      "En su posición 0 contiene 1.0\n"
     ]
    }
   ],
   "source": [
    "import sympy as sp\n",
    "Z=sp.Symbol('Z')\n",
    "Xz= 1 + 3/Z + 5/Z**2 + 9/Z**3 + 30/Z**4 + 35/Z**5 + 45/Z**6 + 50/Z**7\n",
    "Xn,zero_pos= reverse_ztrans(Xz)\n",
    "print(Xn)\n",
    "print('En su posición 0 contiene',Xn[zero_pos])"
   ]
  },
  {
   "cell_type": "markdown",
   "id": "2f157118",
   "metadata": {},
   "source": [
    "Comentario: Este ejercicio puede funcionar en conjunto con los de las clases 3 y 6 relacionados a la representacion de secuencias y la transformada Z"
   ]
  },
  {
   "cell_type": "markdown",
   "id": "1f0094af",
   "metadata": {},
   "source": [
    "#### 2. Calcular la transformada inversa para x(z)= z/(z-1)*(z-0.5)"
   ]
  },
  {
   "cell_type": "code",
   "execution_count": 4,
   "id": "9dee75ff",
   "metadata": {},
   "outputs": [
    {
     "name": "stdout",
     "output_type": "stream",
     "text": [
      "\n",
      " Xz:\n",
      "      2.0        2.0 \n",
      "- ─────────── + ─────\n",
      "  1.0⋅z - 0.5   z - 1\n",
      "\n",
      " X(z) = \n",
      "     2.0⋅z      2.0⋅z\n",
      "- ─────────── + ─────\n",
      "  1.0⋅z - 0.5   z - 1\n"
     ]
    }
   ],
   "source": [
    "import sympy as sym\n",
    "\n",
    "z = sym.Symbol('z')\n",
    "\n",
    "Pz = z\n",
    "Qz = (z-1)*(z-0.5)\n",
    "Xz = Pz/Qz\n",
    "\n",
    "Fz = sym.simplify(Xz) # fracciones parciales modificadas\n",
    "Fzz = (Fz)/z\n",
    "Fzm = Fzz.apart()\n",
    "terminos = Fzm.args # fracciones parciales restaurada\n",
    "Fzp = 0*z\n",
    "for untermino in terminos:\n",
    "    Fzp = Fzp + untermino*z\n",
    "\n",
    "print('\\n Xz:')\n",
    "\n",
    "sym.pprint(Fzm)\n",
    "print('\\n X(z) = ')\n",
    "sym.pprint(Fzp)"
   ]
  }
 ],
 "metadata": {
  "kernelspec": {
   "display_name": "Python 3 (ipykernel)",
   "language": "python",
   "name": "python3"
  },
  "language_info": {
   "codemirror_mode": {
    "name": "ipython",
    "version": 3
   },
   "file_extension": ".py",
   "mimetype": "text/x-python",
   "name": "python",
   "nbconvert_exporter": "python",
   "pygments_lexer": "ipython3",
   "version": "3.9.13"
  }
 },
 "nbformat": 4,
 "nbformat_minor": 5
}
